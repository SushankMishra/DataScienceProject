{
 "cells": [
  {
   "cell_type": "code",
   "execution_count": 12,
   "id": "6c1328c6",
   "metadata": {},
   "outputs": [
    {
     "data": {
      "text/plain": [
       "'/Users/sushankmishra/Desktop/untitled folder/Newp/DataScienceProject'"
      ]
     },
     "execution_count": 12,
     "metadata": {},
     "output_type": "execute_result"
    }
   ],
   "source": [
    "import os\n",
    "%pwd"
   ]
  },
  {
   "cell_type": "code",
   "execution_count": 13,
   "id": "67867e15",
   "metadata": {},
   "outputs": [
    {
     "name": "stdout",
     "output_type": "stream",
     "text": [
      "/Users/sushankmishra/Desktop/untitled folder/Newp/DataScienceProject\n"
     ]
    }
   ],
   "source": [
    "os.chdir('/Users/sushankmishra/Desktop/untitled folder/Newp/DataScienceProject')\n",
    "print(os.getcwd()) "
   ]
  },
  {
   "cell_type": "code",
   "execution_count": null,
   "id": "1f0d5f70",
   "metadata": {},
   "outputs": [],
   "source": []
  },
  {
   "cell_type": "code",
   "execution_count": null,
   "id": "bbb25808",
   "metadata": {},
   "outputs": [],
   "source": []
  },
  {
   "cell_type": "code",
   "execution_count": null,
   "id": "409d5d40",
   "metadata": {},
   "outputs": [],
   "source": [
    "from src.datascience.constants import *\n",
    "from src.datascience.utils.common import read_yaml,create_directories\n",
    "class ConfigurationManager:\n",
    "    def __init__(self, config_file_path = CONFIG_FILE_PATH, params_file_path = PARAMS_FILE_PATH, schema_file_path = SCHEMA_FILE_PATH):\n",
    "        self.config = config_file_path\n",
    "        self.params = params_file_path\n",
    "        self.schema = schema_file_path\n",
    "        self.config = read_yaml(self.config)\n",
    "        self.params = read_yaml(self.params)\n",
    "        self.schema = read_yaml(self.schema)\n",
    "    \n",
    "        create_directories([self.config.artifacts_root]) \n",
    "\n",
    "    def get_data_ingestion_config(self) -> DataIngestionConfig:\n",
    "        config = self.config.data_ingestion\n",
    "        create_directories([config.root_dir])\n",
    "        data_ingestion_config = DataIngestionConfig(\n",
    "            root_dir = config.root_dir,\n",
    "            source_url = config.source_url,\n",
    "            local_data_file = config.local_data_file,\n",
    "            unzip_dir = config.unzip_dir\n",
    "        )\n",
    "        return data_ingestion_config"
   ]
  },
  {
   "cell_type": "code",
   "execution_count": null,
   "id": "1a1aa06e",
   "metadata": {},
   "outputs": [],
   "source": []
  },
  {
   "cell_type": "code",
   "execution_count": null,
   "id": "0197a770",
   "metadata": {},
   "outputs": [],
   "source": [
    "import os\n",
    "from urllib import request\n",
    "from src.datascience import logger\n",
    "import requests\n",
    "class DataIngestion:\n",
    "    def __init__(self, config: DataIngestionConfig):\n",
    "        self.config = config\n",
    "\n",
    "    def download_data(self):\n",
    "        if not os.path.exists(self.config.local_data_file):\n",
    "            os.system(f\"wget {self.config.source_url} -O {self.config.local_data_file}\")\n",
    "        else:\n",
    "            print(\"Data already downloaded.\")\n",
    "\n",
    "    def unzip_data(self):\n",
    "        if not os.path.exists(self.config.unzip_dir):\n",
    "            os.makedirs(self.config.unzip_dir)\n",
    "        os.system(f\"unzip {self.config.local_data_file} -d {self.config.unzip_dir}\")"
   ]
  },
  {
   "cell_type": "code",
   "execution_count": 19,
   "id": "94706f37",
   "metadata": {},
   "outputs": [
    {
     "name": "stdout",
     "output_type": "stream",
     "text": [
      "2025-08-02 14:05:40,937 - INFO - YAML file read successfully from config/config.yaml\n",
      "2025-08-02 14:05:40,939 - INFO - YAML file read successfully from params.yaml\n",
      "2025-08-02 14:05:40,940 - INFO - YAML file read successfully from schema.yaml\n",
      "2025-08-02 14:05:40,941 - INFO - Directory created: artifacts\n",
      "2025-08-02 14:05:40,942 - INFO - Directory created: artifacts/data_ingestion\n"
     ]
    },
    {
     "name": "stderr",
     "output_type": "stream",
     "text": [
      "--2025-08-02 14:05:40--  https://github.com/krishnaik06/datasets/raw/refs/heads/main/winequality-data.zip\n",
      "Resolving github.com (github.com)... 20.207.73.82\n",
      "Connecting to github.com (github.com)|20.207.73.82|:443... connected.\n",
      "HTTP request sent, awaiting response... 302 Found\n",
      "Location: https://raw.githubusercontent.com/krishnaik06/datasets/refs/heads/main/winequality-data.zip [following]\n",
      "--2025-08-02 14:05:41--  https://raw.githubusercontent.com/krishnaik06/datasets/refs/heads/main/winequality-data.zip\n",
      "Resolving raw.githubusercontent.com (raw.githubusercontent.com)... 2606:50c0:8001::154, 2606:50c0:8002::154, 2606:50c0:8003::154, ...\n",
      "Connecting to raw.githubusercontent.com (raw.githubusercontent.com)|2606:50c0:8001::154|:443... connected.\n",
      "HTTP request sent, awaiting response... "
     ]
    },
    {
     "name": "stdout",
     "output_type": "stream",
     "text": [
      "Archive:  artifacts/data_ingestion/winequality-data.zip\n",
      "  inflating: artifacts/data_ingestion/winequality-red.csv  \n"
     ]
    },
    {
     "name": "stderr",
     "output_type": "stream",
     "text": [
      "200 OK\n",
      "Length: 23329 (23K) [application/zip]\n",
      "Saving to: ‘artifacts/data_ingestion/winequality-data.zip’\n",
      "\n",
      "     0K .......... .......... ..                              100% 2.33M=0.01s\n",
      "\n",
      "2025-08-02 14:05:41 (2.33 MB/s) - ‘artifacts/data_ingestion/winequality-data.zip’ saved [23329/23329]\n",
      "\n"
     ]
    }
   ],
   "source": [
    "# !brew install wget\n",
    "try:\n",
    "    config = ConfigurationManager()\n",
    "    data_ingestion_config = config.get_data_ingestion_config()\n",
    "    data_ingestion = DataIngestion(config=data_ingestion_config)\n",
    "    data_ingestion.download_data()\n",
    "    \n",
    "    data_ingestion.unzip_data()\n",
    "except Exception as e:\n",
    "    logger.exception(f\"An error occurred during data ingestion: {e}\")\n",
    "    raise e"
   ]
  }
 ],
 "metadata": {
  "kernelspec": {
   "display_name": "Python 3",
   "language": "python",
   "name": "python3"
  },
  "language_info": {
   "codemirror_mode": {
    "name": "ipython",
    "version": 3
   },
   "file_extension": ".py",
   "mimetype": "text/x-python",
   "name": "python",
   "nbconvert_exporter": "python",
   "pygments_lexer": "ipython3",
   "version": "3.10.0"
  }
 },
 "nbformat": 4,
 "nbformat_minor": 5
}
