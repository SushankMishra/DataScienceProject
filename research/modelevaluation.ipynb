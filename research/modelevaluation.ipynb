{
 "cells": [
  {
   "cell_type": "code",
   "execution_count": 7,
   "id": "4a04d509",
   "metadata": {},
   "outputs": [],
   "source": [
    "import os\n",
    "os.environ[\"MLFLOW_TRACKING_URI\"] = \"https://dagshub.com/SushankMishra/DataScienceProject.mlflow\"\n",
    "os.environ[\"MLFLOW_TRACKING_USERNAME\"] = \"SushankMishra\"\n",
    "os.environ[\"MLFLOW_TRACKING_PASSWORD\"] = \"9c8d71ade4339f2f6ae056382c9da10c282d95f8\""
   ]
  },
  {
   "cell_type": "code",
   "execution_count": 8,
   "id": "55802073",
   "metadata": {},
   "outputs": [
    {
     "name": "stdout",
     "output_type": "stream",
     "text": [
      "/Users/sushankmishra/Desktop/untitled folder/Newp/DataScienceProject\n"
     ]
    }
   ],
   "source": [
    "os.chdir('/Users/sushankmishra/Desktop/untitled folder/Newp/DataScienceProject')\n",
    "print(os.getcwd()) "
   ]
  },
  {
   "cell_type": "code",
   "execution_count": 9,
   "id": "75577850",
   "metadata": {},
   "outputs": [],
   "source": [
    "from dataclasses import dataclass\n",
    "from pathlib import Path\n",
    "\n",
    "@dataclass\n",
    "class ModelEvaluationConfig:\n",
    "    root_dir: Path\n",
    "    test_data_path: Path\n",
    "    model_path: Path\n",
    "    all_params: dict\n",
    "    metrics_file_name: Path\n",
    "    target_column: str\n",
    "    mlflow_uri: str"
   ]
  },
  {
   "cell_type": "code",
   "execution_count": 10,
   "id": "194391fe",
   "metadata": {},
   "outputs": [],
   "source": [
    "from src.datascience.constants import *\n",
    "from src.datascience.utils.common import read_yaml,create_directories\n",
    "\n",
    "class ConfigurationManager:\n",
    "    def __init__(self, config_file_path = CONFIG_FILE_PATH, params_file_path = PARAMS_FILE_PATH, schema_file_path = SCHEMA_FILE_PATH):\n",
    "        self.config = config_file_path\n",
    "        self.params = params_file_path\n",
    "        self.schema = schema_file_path\n",
    "        self.config = read_yaml(self.config)\n",
    "        self.params = read_yaml(self.params)\n",
    "        self.schema = read_yaml(self.schema)\n",
    "    \n",
    "        create_directories([self.config.artifacts_root])\n",
    "    def get_model_evaluation_config(self):\n",
    "        config = self.config.model_evaluation\n",
    "        create_directories([config.root_dir])\n",
    "        model_evaluation_config = ModelEvaluationConfig(\n",
    "            root_dir = config.root_dir,\n",
    "            test_data_path = config.test_data_path,\n",
    "            model_path = config.model_path,\n",
    "            all_params = self.params.ElasticNet,\n",
    "            metrics_file_name = config.metrics_file_name,\n",
    "            target_column = self.schema.TARGET_COLUMN,\n",
    "            mlflow_uri = os.environ.get(\"MLFLOW_TRACKING_URI\")\n",
    "        )\n",
    "        return model_evaluation_config"
   ]
  },
  {
   "cell_type": "code",
   "execution_count": 11,
   "id": "c4b050ba",
   "metadata": {},
   "outputs": [],
   "source": [
    "from urllib.parse import urlparse\n",
    "from sklearn.metrics import r2_score\n",
    "from src.datascience.utils.common import save_json\n",
    "import mlflow\n",
    "from mlflow.models import infer_signature\n",
    "import mlflow.sklearn\n",
    "import numpy as np\n",
    "import pandas as pd\n",
    "import joblib\n",
    "\n",
    "class ModelEvaluation:\n",
    "    def __init__(self, config: ModelEvaluationConfig):\n",
    "        self.config = config\n",
    "    \n",
    "    def eval_metrics(self,actual,pred):\n",
    "        rmse = np.sqrt(np.mean((pred - actual) ** 2))\n",
    "        mae = np.mean(np.abs(pred - actual))\n",
    "        r2 = r2_score(actual, pred)\n",
    "        return rmse, mae, r2\n",
    "    def log_into_mlflow(self):\n",
    "        test_data = pd.read_csv(self.config.test_data_path)\n",
    "        model = joblib.load(self.config.model_path)\n",
    "        X = test_data.drop(self.config.target_column.name, axis=1)\n",
    "        y = test_data[self.config.target_column.name]\n",
    "\n",
    "        mlflow.set_registry_uri(self.config.mlflow_uri)\n",
    "        tracking_url_type_store = urlparse(self.config.mlflow_uri).scheme\n",
    "        \n",
    "        mlflow.set_experiment(\"model_evaluation_experiment\")    \n",
    "        with mlflow.start_run():\n",
    "            y_pred = model.predict(X)\n",
    "            rmse, mae, r2 = self.eval_metrics(y, y_pred)\n",
    "            save_json(path = Path(self.config.metrics_file_name), data={\n",
    "                \"rmse\": rmse,\n",
    "                \"mae\": mae,\n",
    "                \"r2\": r2\n",
    "            })\n",
    "            mlflow.log_metric(\"rmse\", rmse)\n",
    "            mlflow.log_metric(\"mae\", mae)\n",
    "            mlflow.log_metric(\"r2\", r2)\n",
    "            mlflow.log_params(self.config.all_params)\n",
    "            signature = infer_signature(X, y)\n",
    "            if tracking_url_type_store != \"file\":\n",
    "                mlflow.sklearn.log_model(model, \"model\", signature=signature, registered_model_name=\"ElasticNetModel\")\n",
    "            else:\n",
    "                mlflow.sklearn.log_model(model, \"model\")\n",
    "\n"
   ]
  },
  {
   "cell_type": "code",
   "execution_count": 12,
   "id": "dd70bcd6",
   "metadata": {},
   "outputs": [
    {
     "name": "stdout",
     "output_type": "stream",
     "text": [
      "2025-08-02 22:44:52,513 - INFO - YAML file read successfully from config/config.yaml\n",
      "2025-08-02 22:44:52,517 - INFO - YAML file read successfully from params.yaml\n",
      "2025-08-02 22:44:52,519 - INFO - YAML file read successfully from schema.yaml\n",
      "2025-08-02 22:44:52,520 - INFO - Directory created: artifacts\n",
      "2025-08-02 22:44:52,520 - INFO - Directory created: artifacts/model_evaluation\n",
      "2025-08-02 22:44:53,399 - INFO - JSON file saved at artifacts/model_evaluation/metrics.json\n"
     ]
    },
    {
     "name": "stderr",
     "output_type": "stream",
     "text": [
      "/Users/sushankmishra/Desktop/untitled folder/Newp/DataScienceProject/venv/lib/python3.10/site-packages/mlflow/types/utils.py:452: UserWarning: Hint: Inferred schema contains integer column(s). Integer columns in Python cannot represent missing values. If your input data contains missing values at inference time, it will be encoded as floats and will cause a schema enforcement error. The best way to avoid this problem is to infer the model schema based on a realistic data sample (training dataset) that includes missing values. Alternatively, you can declare integer columns as doubles (float64) whenever these columns may have missing values. See `Handling Integers With Missing Values <https://www.mlflow.org/docs/latest/models.html#handling-integers-with-missing-values>`_ for more details.\n",
      "  warnings.warn(\n",
      "Successfully registered model 'ElasticNetModel'.\n",
      "2025/08/02 22:45:01 INFO mlflow.store.model_registry.abstract_store: Waiting up to 300 seconds for model version to finish creation. Model name: ElasticNetModel, version 1\n",
      "Created version '1' of model 'ElasticNetModel'.\n"
     ]
    },
    {
     "name": "stdout",
     "output_type": "stream",
     "text": [
      "🏃 View run gaudy-hare-72 at: https://dagshub.com/SushankMishra/DataScienceProject.mlflow/#/experiments/0/runs/06003900bbd547338931697973051886\n",
      "🧪 View experiment at: https://dagshub.com/SushankMishra/DataScienceProject.mlflow/#/experiments/0\n"
     ]
    }
   ],
   "source": [
    "try:\n",
    "    config = ConfigurationManager()\n",
    "    model_evaluation_config = config.get_model_evaluation_config()\n",
    "    model_evaluation = ModelEvaluation(model_evaluation_config)\n",
    "    model_evaluation.log_into_mlflow()\n",
    "except Exception as e:\n",
    "    raise e"
   ]
  }
 ],
 "metadata": {
  "kernelspec": {
   "display_name": "Python 3",
   "language": "python",
   "name": "python3"
  },
  "language_info": {
   "codemirror_mode": {
    "name": "ipython",
    "version": 3
   },
   "file_extension": ".py",
   "mimetype": "text/x-python",
   "name": "python",
   "nbconvert_exporter": "python",
   "pygments_lexer": "ipython3",
   "version": "3.10.0"
  }
 },
 "nbformat": 4,
 "nbformat_minor": 5
}
