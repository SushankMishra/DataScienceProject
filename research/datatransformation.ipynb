{
 "cells": [
  {
   "cell_type": "code",
   "execution_count": 1,
   "id": "f415e8c8",
   "metadata": {},
   "outputs": [
    {
     "data": {
      "text/plain": [
       "'/Users/sushankmishra/Desktop/untitled folder/Newp/DataScienceProject'"
      ]
     },
     "execution_count": 1,
     "metadata": {},
     "output_type": "execute_result"
    }
   ],
   "source": [
    "import os\n",
    "\n",
    "os.getcwd()\n",
    "os.chdir('/Users/sushankmishra/Desktop/untitled folder/Newp/DataScienceProject/')\n",
    "%pwd"
   ]
  },
  {
   "cell_type": "code",
   "execution_count": null,
   "id": "b376b2e5",
   "metadata": {},
   "outputs": [],
   "source": [
    "from dataclasses import dataclass\n",
    "from pathlib import Path\n",
    "\n",
    "@dataclass\n",
    "class DataTransformationConfig:\n",
    "    root_dir: Path\n",
    "    data_path:dir"
   ]
  },
  {
   "cell_type": "code",
   "execution_count": null,
   "id": "da57f839",
   "metadata": {},
   "outputs": [],
   "source": [
    "import os\n",
    "import pandas as pd\n",
    "from src.datascience import logger\n",
    "from src.datascience.config.configuration import ConfigurationManager\n",
    "from src.datascience.entity.config_entity import DataTransformationConfig\n",
    "from sklearn.model_selection import train_test_split\n",
    "class DataTransformation:\n",
    "    def __init__(self, config: DataTransformationConfig):\n",
    "        self.config = config\n",
    "        logger.info(f\"Data Transformation Config Accepted\")\n",
    "        # logger.info(f\"Data Transformation Config: {self.config}\")  # Uncomment for debugging purposes\n",
    "\n",
    "    def train_test_splitting(self, test_size: float = 0.2):\n",
    "        try:\n",
    "            logger.info(\"Starting train-test split\")\n",
    "            data = pd.read_csv(self.config.data_path)\n",
    "            train,test = train_test_split(data, test_size)\n",
    "            train.to_csv(os.path.join(self.config.root_dir, 'train_data.csv'), index=False)\n",
    "            test.to_csv(os.path.join(self.config.root_dir, 'test_data.csv'), index=False)\n",
    "            logger.info(\"Train-test split completed and files saved\")\n",
    "            logger.info(\"Train-test split completed\")\n",
    "            \n",
    "        except Exception as e:\n",
    "            logger.error(f\"Error during train-test split: {e}\")\n",
    "            raise e"
   ]
  },
  {
   "cell_type": "code",
   "execution_count": null,
   "id": "8c49aed7",
   "metadata": {},
   "outputs": [],
   "source": [
    "try:\n",
    "    config = ConfigurationManager()\n",
    "    data_transformation_config = config.get_data_transformation_config()\n",
    "    data_transformation = DataTransformation(config=data_transformation_config)\n",
    "    data_transformation.train_test_splitting()\n",
    "except Exception as e:\n",
    "    logger.error(f\"An error occurred in the data transformation process: {e}\")\n",
    "    raise e"
   ]
  }
 ],
 "metadata": {
  "kernelspec": {
   "display_name": "Python 3",
   "language": "python",
   "name": "python3"
  },
  "language_info": {
   "codemirror_mode": {
    "name": "ipython",
    "version": 3
   },
   "file_extension": ".py",
   "mimetype": "text/x-python",
   "name": "python",
   "nbconvert_exporter": "python",
   "pygments_lexer": "ipython3",
   "version": "3.10.0"
  }
 },
 "nbformat": 4,
 "nbformat_minor": 5
}
